{
 "cells": [
  {
   "cell_type": "markdown",
   "id": "48b22e38",
   "metadata": {},
   "source": [
    "https://pypi.org/project/geopy/"
   ]
  },
  {
   "cell_type": "code",
   "execution_count": 4,
   "id": "196bbd4a",
   "metadata": {},
   "outputs": [
    {
     "name": "stdout",
     "output_type": "stream",
     "text": [
      "1656, Stillwell Avenue, Gravesend, Brooklyn, Kings County, New York, 11223, United States\n",
      "(40.60655673312856, -73.98723318726259)\n"
     ]
    }
   ],
   "source": [
    "from geopy.geocoders import Nominatim\n",
    "geolocator = Nominatim(user_agent=\"Zillow-Regression\")\n",
    "location = geolocator.geocode(\"1656 Stillwell Ave, Brooklyn, NY 11223\")\n",
    "print(location.address)\n",
    "print((location.latitude, location.longitude))\n",
    "#print(location.raw)"
   ]
  },
  {
   "cell_type": "code",
   "execution_count": null,
   "id": "c2da5035",
   "metadata": {},
   "outputs": [],
   "source": []
  },
  {
   "cell_type": "code",
   "execution_count": null,
   "id": "f9124630",
   "metadata": {},
   "outputs": [],
   "source": []
  }
 ],
 "metadata": {
  "kernelspec": {
   "display_name": "Python [conda env:metis] *",
   "language": "python",
   "name": "conda-env-metis-py"
  },
  "language_info": {
   "codemirror_mode": {
    "name": "ipython",
    "version": 3
   },
   "file_extension": ".py",
   "mimetype": "text/x-python",
   "name": "python",
   "nbconvert_exporter": "python",
   "pygments_lexer": "ipython3",
   "version": "3.8.2"
  }
 },
 "nbformat": 4,
 "nbformat_minor": 5
}
